{
  "nbformat": 4,
  "nbformat_minor": 0,
  "metadata": {
    "colab": {
      "provenance": []
    },
    "kernelspec": {
      "name": "python3",
      "display_name": "Python 3"
    }
  },
  "cells": [
    {
      "cell_type": "markdown",
      "metadata": {
        "id": "gKEtsfzF1w_-"
      },
      "source": [
        "A tensor is a generalization of vectors and matrices to potentially higher dimensions. Tensors can store potential computations in a graph which are evaluated when a session starts.\n",
        "\n",
        "A tensor has a shape as well as a data type\n"
      ]
    },
    {
      "cell_type": "markdown",
      "metadata": {
        "id": "4qpnTcI42i9e"
      },
      "source": [
        "Importing the necessary packages"
      ]
    },
    {
      "cell_type": "code",
      "metadata": {
        "id": "yP4yn2UY2Yjj"
      },
      "source": [
        "import  tensorflow as tf"
      ],
      "execution_count": null,
      "outputs": []
    },
    {
      "cell_type": "markdown",
      "metadata": {
        "id": "aIC-y2VR2pWL"
      },
      "source": [
        "Degree/rank is nothing but the number of dimensions involved in our tensor. Creating a tensor of rank 0 will give us a scalar.\n",
        "\n",
        "Rank:\n",
        "In the TensorFlow system, tensors are described by a unit of dimensionality known as rank. Tensor rank (sometimes referred to as order or degree or n-dimension) is the number of dimensions of the tensor. For example, the following tensor (defined as a Python list) has a rank of 2:\n",
        "\n",
        "t = [[1, 2, 3], [4, 5, 6], [7, 8, 9]]\n",
        "\n",
        "A rank two tensor is what we typically think of as a matrix, a rank one tensor is a vector. For a rank two tensor you can acccess any element with the syntax t[i, j]. For a rank three tensor you would need to address an element with t[i, j, k].\n",
        "\n",
        "Note: The rank of a tensor is not the same as the rank of a matrix. The rank of a tensor is the number of indices required to uniquely select each element of the tensor. Rank is also known as \"order\", \"degree\", or \"ndims.\""
      ]
    },
    {
      "cell_type": "markdown",
      "metadata": {
        "id": "CtC4kCTwNMv0"
      },
      "source": [
        "Creating tensors"
      ]
    },
    {
      "cell_type": "code",
      "metadata": {
        "id": "_V3laPJO3HvR",
        "colab": {
          "base_uri": "https://localhost:8080/",
          "height": 68
        },
        "outputId": "c5d3fa74-ed48-40e7-9b62-855ac47b0f2c"
      },
      "source": [
        "#Tensors with rank 0 aka scalars\n",
        "\n",
        "\n",
        "string = tf.Variable(\"Look! A string\",tf.string) #String tensor\n",
        "number=tf.Variable(32,tf.int16) #Integer tensor\n",
        "floating=tf.Variable(2.65,tf.float64) #Floating point tensors\n",
        "\n",
        "print(string)\n",
        "print(number)\n",
        "print(floating)"
      ],
      "execution_count": null,
      "outputs": [
        {
          "output_type": "stream",
          "text": [
            "<tf.Variable 'Variable:0' shape=() dtype=string, numpy=b'Look! A string'>\n",
            "<tf.Variable 'Variable:0' shape=() dtype=int32, numpy=32>\n",
            "<tf.Variable 'Variable:0' shape=() dtype=float32, numpy=2.65>\n"
          ],
          "name": "stdout"
        }
      ]
    },
    {
      "cell_type": "code",
      "metadata": {
        "id": "SNNLJi-c7MWc",
        "colab": {
          "base_uri": "https://localhost:8080/",
          "height": 85
        },
        "outputId": "863b28e0-5446-4b08-e7c1-80517ffa9e06"
      },
      "source": [
        "#Tensors with a non-null rank\n",
        "\n",
        "\n",
        "rank1_tr=tf.Variable([2,4,5],tf.int16) #vector\n",
        "rank2_tr=tf.Variable([['Test','Works','yes'],['OK','BYE','f']],tf.string) #matrix\n",
        "\n",
        "print(rank1_tr)\n",
        "print(rank2_tr)"
      ],
      "execution_count": null,
      "outputs": [
        {
          "output_type": "stream",
          "text": [
            "<tf.Variable 'Variable:0' shape=(3,) dtype=int32, numpy=array([2, 4, 5], dtype=int32)>\n",
            "<tf.Variable 'Variable:0' shape=(2, 3) dtype=string, numpy=\n",
            "array([[b'Test', b'Works', b'yes'],\n",
            "       [b'OK', b'BYE', b'f']], dtype=object)>\n"
          ],
          "name": "stdout"
        }
      ]
    },
    {
      "cell_type": "code",
      "metadata": {
        "id": "9dH9OJF37kFU",
        "colab": {
          "base_uri": "https://localhost:8080/",
          "height": 51
        },
        "outputId": "24f8aba2-aba5-43d7-a7b1-a07267d862a1"
      },
      "source": [
        "# Checking the rank and shape\n",
        "\n",
        "print(tf.rank(rank2_tr))\n",
        "rank2_tr.shape"
      ],
      "execution_count": null,
      "outputs": [
        {
          "output_type": "stream",
          "text": [
            "tf.Tensor(2, shape=(), dtype=int32)\n"
          ],
          "name": "stdout"
        },
        {
          "output_type": "execute_result",
          "data": {
            "text/plain": [
              "TensorShape([2, 3])"
            ]
          },
          "metadata": {
            "tags": []
          },
          "execution_count": 7
        }
      ]
    },
    {
      "cell_type": "markdown",
      "metadata": {
        "id": "QwzwH38r_QHi"
      },
      "source": [
        "Reshaping a tensor"
      ]
    },
    {
      "cell_type": "code",
      "metadata": {
        "id": "A8_9jqwQ7vRY",
        "colab": {
          "base_uri": "https://localhost:8080/",
          "height": 221
        },
        "outputId": "72cab85f-de68-49fb-b3b6-11a10a5e2f26"
      },
      "source": [
        "tensor1=tf.ones([1,2,3])\n",
        "print(tensor1)\n",
        "tensor2=tf.reshape(tensor1,[3,2,1])\n",
        "print(tensor2)\n",
        "tensor3=tf.reshape(tensor1,[6,-1])"
      ],
      "execution_count": null,
      "outputs": [
        {
          "output_type": "stream",
          "text": [
            "tf.Tensor(\n",
            "[[[1. 1. 1.]\n",
            "  [1. 1. 1.]]], shape=(1, 2, 3), dtype=float32)\n",
            "tf.Tensor(\n",
            "[[[1.]\n",
            "  [1.]]\n",
            "\n",
            " [[1.]\n",
            "  [1.]]\n",
            "\n",
            " [[1.]\n",
            "  [1.]]], shape=(3, 2, 1), dtype=float32)\n"
          ],
          "name": "stdout"
        }
      ]
    },
    {
      "cell_type": "markdown",
      "metadata": {
        "id": "TIetD3pg_k5Y"
      },
      "source": [
        "Types of tensor:\n",
        "\n",
        "1. Constant\n",
        "2. Variable\n",
        "3. Placeholder\n",
        "4. SparseTensor\n",
        "\n",
        "Other than variable, all other tensors are immutable"
      ]
    },
    {
      "cell_type": "markdown",
      "metadata": {
        "id": "cqHajIqaFYZN"
      },
      "source": [
        "**CREATING A SEQUENTIAL NEURAL NETWORK**"
      ]
    },
    {
      "cell_type": "markdown",
      "metadata": {
        "id": "yghkKEVYoJdC"
      },
      "source": [
        "Importing libraries"
      ]
    },
    {
      "cell_type": "code",
      "metadata": {
        "id": "SRZqdtCL-4Jk",
        "colab": {
          "base_uri": "https://localhost:8080/",
          "height": 102
        },
        "outputId": "9673d89b-b682-4f2e-ad78-5603dc89756b"
      },
      "source": [
        "%tensorflow_version 2.x #Denotes the version of tensorflow being used\n",
        "\n",
        "from tensorflow import keras #Primary library\n",
        "\n",
        "import numpy as np #Calculations\n",
        "import matplotlib.pyplot as plt #To visualize images\n",
        "\n",
        "#from tensorflow.keras.preprocessing.image import ImageDataGenerator  #To assign labels automatically\n",
        "\n"
      ],
      "execution_count": null,
      "outputs": [
        {
          "output_type": "stream",
          "text": [
            "`%tensorflow_version` only switches the major version: 1.x or 2.x.\n",
            "You set: `2.x #Denotes the version of tensorflow being used`. This will be interpreted as: `2.x`.\n",
            "\n",
            "\n",
            "TensorFlow is already loaded. Please restart the runtime to change versions.\n"
          ],
          "name": "stdout"
        }
      ]
    },
    {
      "cell_type": "markdown",
      "metadata": {
        "id": "DOjVjO1Pu5mk"
      },
      "source": [
        "Keras is a neural network library which runs on top of tensorflow"
      ]
    },
    {
      "cell_type": "markdown",
      "metadata": {
        "id": "faY3QvbxkK-P"
      },
      "source": [
        "Loading the dataset and classifying it into training and testing."
      ]
    },
    {
      "cell_type": "code",
      "metadata": {
        "id": "FF7A-l_psubx",
        "colab": {
          "base_uri": "https://localhost:8080/",
          "height": 35
        },
        "outputId": "a4fb76fd-e9d3-45a4-f112-c7256d432cdc"
      },
      "source": [
        "tf.__version__"
      ],
      "execution_count": null,
      "outputs": [
        {
          "output_type": "execute_result",
          "data": {
            "application/vnd.google.colaboratory.intrinsic": {
              "type": "string"
            },
            "text/plain": [
              "'2.2.0'"
            ]
          },
          "metadata": {
            "tags": []
          },
          "execution_count": 10
        }
      ]
    },
    {
      "cell_type": "code",
      "metadata": {
        "id": "dV1J_p03GDyO"
      },
      "source": [
        "(train_images,train_labels),(test_images,test_labels)=tf.keras.datasets.fashion_mnist.load_data()"
      ],
      "execution_count": null,
      "outputs": []
    },
    {
      "cell_type": "code",
      "metadata": {
        "id": "ZHtOahDYj2dN",
        "colab": {
          "base_uri": "https://localhost:8080/",
          "height": 34
        },
        "outputId": "902dc0d8-fd7b-42d6-ac9a-de0ac99e6059"
      },
      "source": [
        "train_images.shape #Printing dimensions of train_images array"
      ],
      "execution_count": null,
      "outputs": [
        {
          "output_type": "execute_result",
          "data": {
            "text/plain": [
              "(60000, 28, 28)"
            ]
          },
          "metadata": {
            "tags": []
          },
          "execution_count": 13
        }
      ]
    },
    {
      "cell_type": "markdown",
      "metadata": {
        "id": "AemDvccolNO8"
      },
      "source": [
        "The shape shows 60000 training examples. All images have 28x28. If the image was of RGB type, there would have been another parameter."
      ]
    },
    {
      "cell_type": "code",
      "metadata": {
        "id": "7ExhBQ81-RSI",
        "colab": {
          "base_uri": "https://localhost:8080/",
          "height": 850
        },
        "outputId": "a4fdd877-73ba-4ba9-d6c3-ce65a13e2c8c"
      },
      "source": [
        "train_images"
      ],
      "execution_count": null,
      "outputs": [
        {
          "output_type": "execute_result",
          "data": {
            "text/plain": [
              "array([[[0, 0, 0, ..., 0, 0, 0],\n",
              "        [0, 0, 0, ..., 0, 0, 0],\n",
              "        [0, 0, 0, ..., 0, 0, 0],\n",
              "        ...,\n",
              "        [0, 0, 0, ..., 0, 0, 0],\n",
              "        [0, 0, 0, ..., 0, 0, 0],\n",
              "        [0, 0, 0, ..., 0, 0, 0]],\n",
              "\n",
              "       [[0, 0, 0, ..., 0, 0, 0],\n",
              "        [0, 0, 0, ..., 0, 0, 0],\n",
              "        [0, 0, 0, ..., 0, 0, 0],\n",
              "        ...,\n",
              "        [0, 0, 0, ..., 0, 0, 0],\n",
              "        [0, 0, 0, ..., 0, 0, 0],\n",
              "        [0, 0, 0, ..., 0, 0, 0]],\n",
              "\n",
              "       [[0, 0, 0, ..., 0, 0, 0],\n",
              "        [0, 0, 0, ..., 0, 0, 0],\n",
              "        [0, 0, 0, ..., 0, 0, 0],\n",
              "        ...,\n",
              "        [0, 0, 0, ..., 0, 0, 0],\n",
              "        [0, 0, 0, ..., 0, 0, 0],\n",
              "        [0, 0, 0, ..., 0, 0, 0]],\n",
              "\n",
              "       ...,\n",
              "\n",
              "       [[0, 0, 0, ..., 0, 0, 0],\n",
              "        [0, 0, 0, ..., 0, 0, 0],\n",
              "        [0, 0, 0, ..., 0, 0, 0],\n",
              "        ...,\n",
              "        [0, 0, 0, ..., 0, 0, 0],\n",
              "        [0, 0, 0, ..., 0, 0, 0],\n",
              "        [0, 0, 0, ..., 0, 0, 0]],\n",
              "\n",
              "       [[0, 0, 0, ..., 0, 0, 0],\n",
              "        [0, 0, 0, ..., 0, 0, 0],\n",
              "        [0, 0, 0, ..., 0, 0, 0],\n",
              "        ...,\n",
              "        [0, 0, 0, ..., 0, 0, 0],\n",
              "        [0, 0, 0, ..., 0, 0, 0],\n",
              "        [0, 0, 0, ..., 0, 0, 0]],\n",
              "\n",
              "       [[0, 0, 0, ..., 0, 0, 0],\n",
              "        [0, 0, 0, ..., 0, 0, 0],\n",
              "        [0, 0, 0, ..., 0, 0, 0],\n",
              "        ...,\n",
              "        [0, 0, 0, ..., 0, 0, 0],\n",
              "        [0, 0, 0, ..., 0, 0, 0],\n",
              "        [0, 0, 0, ..., 0, 0, 0]]], dtype=uint8)"
            ]
          },
          "metadata": {
            "tags": []
          },
          "execution_count": 16
        }
      ]
    },
    {
      "cell_type": "code",
      "metadata": {
        "id": "aRzpk7W9lFLh",
        "colab": {
          "base_uri": "https://localhost:8080/",
          "height": 34
        },
        "outputId": "08d72d82-ffd4-441d-8068-6e2c8eae1f12"
      },
      "source": [
        "train_images[0,23,22] #Printing a  pixel of the first image"
      ],
      "execution_count": null,
      "outputs": [
        {
          "output_type": "execute_result",
          "data": {
            "text/plain": [
              "188"
            ]
          },
          "metadata": {
            "tags": []
          },
          "execution_count": 10
        }
      ]
    },
    {
      "cell_type": "code",
      "metadata": {
        "id": "hD6YVET7_3lL",
        "colab": {
          "base_uri": "https://localhost:8080/",
          "height": 282
        },
        "outputId": "dbe41de3-22d4-4701-f683-0d88b69fb73a"
      },
      "source": [
        "plt.imshow(train_images[0],cmap=plt.cm.binary)"
      ],
      "execution_count": null,
      "outputs": [
        {
          "output_type": "execute_result",
          "data": {
            "text/plain": [
              "<matplotlib.image.AxesImage at 0x7f1b6a8d8320>"
            ]
          },
          "metadata": {
            "tags": []
          },
          "execution_count": 19
        },
        {
          "output_type": "display_data",
          "data": {
            "image/png": "[encoded data removed]",
            "text/plain": [
              "<Figure size 432x288 with 1 Axes>"
            ]
          },
          "metadata": {
            "tags": [],
            "needs_background": "light"
          }
        }
      ]
    },
    {
      "cell_type": "markdown",
      "metadata": {
        "id": "mYoUCBUSnxnF"
      },
      "source": [
        "The labels in the dataset are encoded."
      ]
    },
    {
      "cell_type": "code",
      "metadata": {
        "id": "-0R03HjolqKV",
        "colab": {
          "base_uri": "https://localhost:8080/",
          "height": 34
        },
        "outputId": "5e575f21-2264-45b8-9831-96fc89ee3ec5"
      },
      "source": [
        "train_labels[:10]"
      ],
      "execution_count": null,
      "outputs": [
        {
          "output_type": "execute_result",
          "data": {
            "text/plain": [
              "array([9, 0, 0, 3, 0, 2, 7, 2, 5, 5], dtype=uint8)"
            ]
          },
          "metadata": {
            "tags": []
          },
          "execution_count": 20
        }
      ]
    },
    {
      "cell_type": "markdown",
      "metadata": {
        "id": "Ae_HNfVZpWiY"
      },
      "source": [
        "Assigning our own labels"
      ]
    },
    {
      "cell_type": "code",
      "metadata": {
        "id": "vF_ccZTrmX84"
      },
      "source": [
        "class_labels=['T-shirt/top','Trouser','Pullover','Dress','Coat','Sandal','Shirt','Sneaker','Bag','Ankle boot']"
      ],
      "execution_count": null,
      "outputs": []
    },
    {
      "cell_type": "code",
      "metadata": {
        "id": "re2_B3jloGtf",
        "colab": {
          "base_uri": "https://localhost:8080/",
          "height": 262
        },
        "outputId": "042a4ccb-465f-4914-c139-d5f4412b8c9e"
      },
      "source": [
        "#Displaying the first 4 images\n",
        "\n",
        "for i in range(4):\n",
        "  plt.subplot(2,2,i+1)\n",
        "  plt.xticks([])\n",
        "  plt.yticks([])\n",
        "  plt.imshow(train_images[i],cmap=plt.cm.binary)\n",
        "  plt.xlabel(class_labels[train_labels[i]])\n",
        "\n",
        "plt.show()"
      ],
      "execution_count": null,
      "outputs": [
        {
          "output_type": "display_data",
          "data": {
            "image/png": "[encoded data removed]",
            "text/plain": [
              "<Figure size 432x288 with 4 Axes>"
            ]
          },
          "metadata": {
            "tags": []
          }
        }
      ]
    },
    {
      "cell_type": "code",
      "metadata": {
        "id": "163tL_EtpzW1",
        "colab": {
          "base_uri": "https://localhost:8080/",
          "height": 280
        },
        "outputId": "6fda4d85-00a0-46f4-887c-39cf3fdcb54f"
      },
      "source": [
        "plt.figure()\n",
        "plt.imshow(train_images[30])\n",
        "plt.xlabel(train_labels[30])\n",
        "plt.colorbar()\n",
        "plt.show()"
      ],
      "execution_count": null,
      "outputs": [
        {
          "output_type": "display_data",
          "data": {
            "image/png": "[encoded data removed]",
            "text/plain": [
              "<Figure size 432x288 with 2 Axes>"
            ]
          },
          "metadata": {
            "tags": [],
            "needs_background": "light"
          }
        }
      ]
    },
    {
      "cell_type": "markdown",
      "metadata": {
        "id": "1f3wMHqqv7dF"
      },
      "source": [
        "**PREPROCESSING DATA**\n"
      ]
    },
    {
      "cell_type": "code",
      "metadata": {
        "id": "9b6six4zuh_D"
      },
      "source": [
        "train_images, test_images= train_images/255, test_images/255"
      ],
      "execution_count": null,
      "outputs": []
    },
    {
      "cell_type": "markdown",
      "metadata": {
        "id": "coKhnyoJqvNT"
      },
      "source": [
        "**BUILDING THE MODEL**"
      ]
    },
    {
      "cell_type": "markdown",
      "metadata": {
        "id": "FijMS14mp9Vu"
      },
      "source": [
        "Building the architecture of the model."
      ]
    },
    {
      "cell_type": "code",
      "metadata": {
        "id": "QOdlPx7YwMZN"
      },
      "source": [
        "model=keras.Sequential()\n",
        "model.add(keras.layers.Flatten(input_shape=(28,28))) #Input layer\n",
        "model.add(keras.layers.Dense(128,activation='relu')) #Hidden layer 1\n",
        "model.add(keras.layers.Dense(256,activation='relu')) #Hidden layer 2\n",
        "model.add(keras.layers.Dense(10,activation='softmax'))  #Output layer"
      ],
      "execution_count": null,
      "outputs": []
    },
    {
      "cell_type": "code",
      "metadata": {
        "id": "Rkdk6_JlTHkR",
        "colab": {
          "base_uri": "https://localhost:8080/",
          "height": 289
        },
        "outputId": "c005c324-ec8a-4e11-8c28-8497626a5a34"
      },
      "source": [
        "model.summary()"
      ],
      "execution_count": null,
      "outputs": [
        {
          "output_type": "stream",
          "text": [
            "Model: \"sequential_2\"\n",
            "_________________________________________________________________\n",
            "Layer (type)                 Output Shape              Param #   \n",
            "=================================================================\n",
            "flatten_2 (Flatten)          (None, 784)               0         \n",
            "_________________________________________________________________\n",
            "dense_6 (Dense)              (None, 128)               100480    \n",
            "_________________________________________________________________\n",
            "dense_7 (Dense)              (None, 256)               33024     \n",
            "_________________________________________________________________\n",
            "dense_8 (Dense)              (None, 10)                2570      \n",
            "=================================================================\n",
            "Total params: 136,074\n",
            "Trainable params: 136,074\n",
            "Non-trainable params: 0\n",
            "_________________________________________________________________\n"
          ],
          "name": "stdout"
        }
      ]
    },
    {
      "cell_type": "markdown",
      "metadata": {
        "id": "ekv-QySRyqY3"
      },
      "source": [
        "Compiling the model"
      ]
    },
    {
      "cell_type": "code",
      "metadata": {
        "id": "7zYIQepsyIJc"
      },
      "source": [
        "model.compile(optimizer='adam',\n",
        "              loss='sparse_categorical_crossentropy',\n",
        "              metrics=['accuracy'])"
      ],
      "execution_count": null,
      "outputs": []
    },
    {
      "cell_type": "markdown",
      "metadata": {
        "id": "DrNOzmRjqkAz"
      },
      "source": [
        "Fitting the model"
      ]
    },
    {
      "cell_type": "code",
      "metadata": {
        "id": "opzAc8ETztwG",
        "colab": {
          "base_uri": "https://localhost:8080/",
          "height": 187
        },
        "outputId": "c4ee7f18-62c9-4608-841c-f762f444e4e0"
      },
      "source": [
        "history=model.fit(train_images,train_labels,epochs=5,validation_data=(test_images,test_labels))"
      ],
      "execution_count": null,
      "outputs": [
        {
          "output_type": "stream",
          "text": [
            "Epoch 1/5\n",
            "1875/1875 [==============================] - 8s 4ms/step - loss: 0.4778 - accuracy: 0.8277 - val_loss: 0.4039 - val_accuracy: 0.8513\n",
            "Epoch 2/5\n",
            "1875/1875 [==============================] - 7s 4ms/step - loss: 0.3618 - accuracy: 0.8668 - val_loss: 0.3781 - val_accuracy: 0.8643\n",
            "Epoch 3/5\n",
            "1875/1875 [==============================] - 8s 4ms/step - loss: 0.3242 - accuracy: 0.8794 - val_loss: 0.3667 - val_accuracy: 0.8697\n",
            "Epoch 4/5\n",
            "1875/1875 [==============================] - 6s 3ms/step - loss: 0.3029 - accuracy: 0.8866 - val_loss: 0.3495 - val_accuracy: 0.8703\n",
            "Epoch 5/5\n",
            "1875/1875 [==============================] - 6s 3ms/step - loss: 0.2846 - accuracy: 0.8934 - val_loss: 0.3314 - val_accuracy: 0.8801\n"
          ],
          "name": "stdout"
        }
      ]
    },
    {
      "cell_type": "code",
      "metadata": {
        "id": "qGGVFUDPz0Vq",
        "colab": {
          "base_uri": "https://localhost:8080/",
          "height": 51
        },
        "outputId": "5efac048-9b22-48f6-9083-d762763b311d"
      },
      "source": [
        "test_loss ,test_acc=model.evaluate(test_images,test_labels,verbose=1)\n",
        "\n",
        "print(\"TEST ACCURACY:\",test_acc)"
      ],
      "execution_count": null,
      "outputs": [
        {
          "output_type": "stream",
          "text": [
            "313/313 [==============================] - 0s 2ms/step - loss: 0.3395 - accuracy: 0.8864\n",
            "TEST ACCURACY: 0.8863999843597412\n"
          ],
          "name": "stdout"
        }
      ]
    },
    {
      "cell_type": "markdown",
      "metadata": {
        "id": "GY0XuePVq53f"
      },
      "source": [
        "**Saving the model for later use**"
      ]
    },
    {
      "cell_type": "code",
      "metadata": {
        "id": "-JUkQ2Ce0_Fm",
        "colab": {
          "base_uri": "https://localhost:8080/",
          "height": 105
        },
        "outputId": "1aabd23b-6279-475d-aa3d-fe48a222b001"
      },
      "source": [
        "model.save('Classify_im.model')"
      ],
      "execution_count": null,
      "outputs": [
        {
          "output_type": "stream",
          "text": [
            "WARNING:tensorflow:From /usr/local/lib/python3.6/dist-packages/tensorflow/python/ops/resource_variable_ops.py:1817: calling BaseResourceVariable.__init__ (from tensorflow.python.ops.resource_variable_ops) with constraint is deprecated and will be removed in a future version.\n",
            "Instructions for updating:\n",
            "If using Keras pass *_constraint arguments to layers.\n",
            "INFO:tensorflow:Assets written to: Classify_im.model/assets\n"
          ],
          "name": "stdout"
        }
      ]
    },
    {
      "cell_type": "code",
      "metadata": {
        "id": "GqsgeYcP4Yhc"
      },
      "source": [
        "model1= keras.models.load_model('Classify_im.model')"
      ],
      "execution_count": null,
      "outputs": []
    },
    {
      "cell_type": "markdown",
      "metadata": {
        "id": "LutsbqMmro2e"
      },
      "source": [
        "Making predictions from test dataset"
      ]
    },
    {
      "cell_type": "code",
      "metadata": {
        "id": "K7XmrS4Eyi9_",
        "colab": {
          "base_uri": "https://localhost:8080/",
          "height": 238
        },
        "outputId": "abdaed10-6af1-40be-d242-d6a85e60908e"
      },
      "source": [
        "predictions=model.predict(test_images)\n",
        "predictions"
      ],
      "execution_count": null,
      "outputs": [
        {
          "output_type": "execute_result",
          "data": {
            "text/plain": [
              "array([[1.15240684e-04, 1.08060303e-05, 1.64524899e-04, ...,\n",
              "        1.48147866e-01, 7.80629169e-04, 6.87232554e-01],\n",
              "       [5.10908358e-05, 1.38310063e-09, 9.95135844e-01, ...,\n",
              "        7.32046097e-13, 2.61523667e-07, 1.64099225e-12],\n",
              "       [6.33254338e-10, 1.00000000e+00, 3.48871127e-12, ...,\n",
              "        8.63727649e-20, 2.13570828e-12, 2.07482441e-17],\n",
              "       ...,\n",
              "       [1.69645882e-05, 7.13607307e-09, 1.38033629e-05, ...,\n",
              "        2.11594013e-08, 9.99938130e-01, 5.09256026e-10],\n",
              "       [2.22170227e-10, 9.99999881e-01, 3.03741789e-11, ...,\n",
              "        1.17107021e-13, 2.11808882e-09, 1.12837083e-12],\n",
              "       [1.66689806e-05, 4.01750953e-07, 3.81477439e-05, ...,\n",
              "        2.29659397e-03, 1.71072420e-03, 2.57285296e-06]], dtype=float32)"
            ]
          },
          "metadata": {
            "tags": []
          },
          "execution_count": 34
        }
      ]
    },
    {
      "cell_type": "code",
      "metadata": {
        "id": "An3M6WJJxqJI",
        "colab": {
          "base_uri": "https://localhost:8080/",
          "height": 34
        },
        "outputId": "28d0bf11-476a-42ee-b423-f1fe52f40e58"
      },
      "source": [
        "predictions.shape"
      ],
      "execution_count": null,
      "outputs": [
        {
          "output_type": "execute_result",
          "data": {
            "text/plain": [
              "(10000, 10)"
            ]
          },
          "metadata": {
            "tags": []
          },
          "execution_count": 35
        }
      ]
    },
    {
      "cell_type": "code",
      "metadata": {
        "id": "m5dTQy5RMei1",
        "colab": {
          "base_uri": "https://localhost:8080/",
          "height": 187
        },
        "outputId": "d63049e5-d9c0-400d-d271-9fd8c63f7f4c"
      },
      "source": [
        "class_labels"
      ],
      "execution_count": null,
      "outputs": [
        {
          "output_type": "execute_result",
          "data": {
            "text/plain": [
              "['T-shirt/top',\n",
              " 'Trouser',\n",
              " 'Pullover',\n",
              " 'Dress',\n",
              " 'Coat',\n",
              " 'Sandal',\n",
              " 'Shirt',\n",
              " 'Sneaker',\n",
              " 'Bag',\n",
              " 'Ankle boot']"
            ]
          },
          "metadata": {
            "tags": []
          },
          "execution_count": 36
        }
      ]
    },
    {
      "cell_type": "code",
      "metadata": {
        "id": "EzywtvFOrz9b",
        "colab": {
          "base_uri": "https://localhost:8080/",
          "height": 68
        },
        "outputId": "4a6b8d3e-253b-4e24-f4c1-444c2978b02a"
      },
      "source": [
        "predictions[18]"
      ],
      "execution_count": null,
      "outputs": [
        {
          "output_type": "execute_result",
          "data": {
            "text/plain": [
              "array([5.0569754e-05, 1.0609588e-08, 6.6743510e-06, 7.0707387e-07,\n",
              "       2.4068395e-06, 2.9923891e-07, 9.1718131e-05, 3.8005865e-07,\n",
              "       9.9984705e-01, 8.5806597e-08], dtype=float32)"
            ]
          },
          "metadata": {
            "tags": []
          },
          "execution_count": 43
        }
      ]
    },
    {
      "cell_type": "code",
      "metadata": {
        "id": "RE24XVzvyp6k",
        "colab": {
          "base_uri": "https://localhost:8080/",
          "height": 34
        },
        "outputId": "2c930a2c-816d-4cd7-97ee-37bd082466f8"
      },
      "source": [
        "np.argmax(predictions[18])"
      ],
      "execution_count": null,
      "outputs": [
        {
          "output_type": "execute_result",
          "data": {
            "text/plain": [
              "8"
            ]
          },
          "metadata": {
            "tags": []
          },
          "execution_count": 44
        }
      ]
    },
    {
      "cell_type": "code",
      "metadata": {
        "id": "NBF3bI92yzFf",
        "colab": {
          "base_uri": "https://localhost:8080/",
          "height": 282
        },
        "outputId": "0b922399-b00e-46d5-b8ef-44f365d0e10d"
      },
      "source": [
        "plt.imshow(test_images[18],cmap=\"gray\")"
      ],
      "execution_count": null,
      "outputs": [
        {
          "output_type": "execute_result",
          "data": {
            "text/plain": [
              "<matplotlib.image.AxesImage at 0x7f1b6734fd68>"
            ]
          },
          "metadata": {
            "tags": []
          },
          "execution_count": 45
        },
        {
          "output_type": "display_data",
          "data": {
            "image/png": "[encoded data removed]",
            "text/plain": [
              "<Figure size 432x288 with 1 Axes>"
            ]
          },
          "metadata": {
            "tags": [],
            "needs_background": "light"
          }
        }
      ]
    },
    {
      "cell_type": "code",
      "metadata": {
        "id": "BVgd2_eTy8VQ",
        "colab": {
          "base_uri": "https://localhost:8080/",
          "height": 187
        },
        "outputId": "af7aa534-fff5-474d-ce10-ca18c03699a6"
      },
      "source": [
        "for j in range(10):\n",
        "  print(j,class_labels[j])"
      ],
      "execution_count": null,
      "outputs": [
        {
          "output_type": "stream",
          "text": [
            "0 T-shirt/top\n",
            "1 Trouser\n",
            "2 Pullover\n",
            "3 Dress\n",
            "4 Coat\n",
            "5 Sandal\n",
            "6 Shirt\n",
            "7 Sneaker\n",
            "8 Bag\n",
            "9 Ankle boot\n"
          ],
          "name": "stdout"
        }
      ]
    },
    {
      "cell_type": "markdown",
      "metadata": {
        "id": "qpXkdMirsMAM"
      },
      "source": [
        "**Testing the model on foreign data**"
      ]
    },
    {
      "cell_type": "markdown",
      "metadata": {
        "id": "rgRXmqggtGpk"
      },
      "source": [
        "Importing libraries"
      ]
    },
    {
      "cell_type": "code",
      "metadata": {
        "id": "7mHST2LczE2V",
        "colab": {
          "base_uri": "https://localhost:8080/",
          "height": 34
        },
        "outputId": "5bb23fda-843a-4842-d213-a5f62d92597f"
      },
      "source": [
        "from keras.preprocessing import image\n"
      ],
      "execution_count": null,
      "outputs": [
        {
          "output_type": "stream",
          "text": [
            "Using TensorFlow backend.\n"
          ],
          "name": "stderr"
        }
      ]
    },
    {
      "cell_type": "markdown",
      "metadata": {
        "id": "HRr0GsWQtLzp"
      },
      "source": [
        "Loading and showing the image"
      ]
    },
    {
      "cell_type": "code",
      "metadata": {
        "id": "nBBClh6DVE6G"
      },
      "source": [
        "img=image.load_img(r'/content/car.jpg',target_size=(28,28),color_mode='grayscale')\n"
      ],
      "execution_count": null,
      "outputs": []
    },
    {
      "cell_type": "code",
      "metadata": {
        "id": "4vQrXucRVgDl",
        "colab": {
          "base_uri": "https://localhost:8080/",
          "height": 282
        },
        "outputId": "2bd2a4f9-9bf4-4629-9d00-2ccfd35c13da"
      },
      "source": [
        "plt.imshow(img,cmap=\"gray\")\n"
      ],
      "execution_count": null,
      "outputs": [
        {
          "output_type": "execute_result",
          "data": {
            "text/plain": [
              "<matplotlib.image.AxesImage at 0x7f1b6716dc50>"
            ]
          },
          "metadata": {
            "tags": []
          },
          "execution_count": 65
        },
        {
          "output_type": "display_data",
          "data": {
            "image/png": "[encoded data removed]",
            "text/plain": [
              "<Figure size 432x288 with 1 Axes>"
            ]
          },
          "metadata": {
            "tags": [],
            "needs_background": "light"
          }
        }
      ]
    },
    {
      "cell_type": "markdown",
      "metadata": {
        "id": "s3Nkx2VYuA7c"
      },
      "source": [
        "Conversion of image into a desirable format"
      ]
    },
    {
      "cell_type": "code",
      "metadata": {
        "id": "pC9MffdTWixH"
      },
      "source": [
        "img=image.img_to_array(img) #Converting an image to an array which stores the grayscale values of each pixel\n",
        "img/=255    #Normalizing the array\n",
        "img=np.array([img]) #Converting it into a suitable form\n"
      ],
      "execution_count": null,
      "outputs": []
    },
    {
      "cell_type": "markdown",
      "metadata": {
        "id": "l-5Ju9fKuIjX"
      },
      "source": [
        "Predicting the label"
      ]
    },
    {
      "cell_type": "code",
      "metadata": {
        "id": "KtUBShaBWrrD",
        "colab": {
          "base_uri": "https://localhost:8080/",
          "height": 34
        },
        "outputId": "f1db1bb6-6c80-4638-b6e4-fce5e3c8c3d3"
      },
      "source": [
        "p=model.predict_classes([img])\n",
        "print(p)"
      ],
      "execution_count": null,
      "outputs": [
        {
          "output_type": "stream",
          "text": [
            "[8]\n"
          ],
          "name": "stdout"
        }
      ]
    },
    {
      "cell_type": "code",
      "metadata": {
        "id": "Fyr8Y1DHOVdN",
        "colab": {
          "base_uri": "https://localhost:8080/",
          "height": 187
        },
        "outputId": "0d92c005-e469-41d4-ea7c-0f154de61dce"
      },
      "source": [
        "class_labels"
      ],
      "execution_count": null,
      "outputs": [
        {
          "output_type": "execute_result",
          "data": {
            "text/plain": [
              "['T-shirt/top',\n",
              " 'Trouser',\n",
              " 'Pullover',\n",
              " 'Dress',\n",
              " 'Coat',\n",
              " 'Sandal',\n",
              " 'Shirt',\n",
              " 'Sneaker',\n",
              " 'Bag',\n",
              " 'Ankle boot']"
            ]
          },
          "metadata": {
            "tags": []
          },
          "execution_count": 68
        }
      ]
    },
    {
      "cell_type": "code",
      "metadata": {
        "id": "1mXIuoq5OXVb",
        "colab": {
          "base_uri": "https://localhost:8080/",
          "height": 316
        },
        "outputId": "f5629ed7-c878-421e-b7f6-fcf16fba944c"
      },
      "source": [
        "acc= history.history['accuracy']\n",
        "val_acc =history.history['val_accuracy']\n",
        "\n",
        "epochs = range(len(acc))\n",
        "print(acc)\n",
        "plt.plot(epochs,acc)\n",
        "plt.plot(epochs,val_acc)\n",
        "plt.legend()"
      ],
      "execution_count": null,
      "outputs": [
        {
          "output_type": "stream",
          "text": [
            "No handles with labels found to put in legend.\n"
          ],
          "name": "stderr"
        },
        {
          "output_type": "stream",
          "text": [
            "[0.8277333378791809, 0.8668333292007446, 0.8794000148773193, 0.8866333365440369, 0.8933666944503784]\n"
          ],
          "name": "stdout"
        },
        {
          "output_type": "execute_result",
          "data": {
            "text/plain": [
              "<matplotlib.legend.Legend at 0x7f1b66e46b70>"
            ]
          },
          "metadata": {
            "tags": []
          },
          "execution_count": 77
        },
        {
          "output_type": "display_data",
          "data": {
            "image/png": "[encoded data removed]",
            "text/plain": [
              "<Figure size 432x288 with 1 Axes>"
            ]
          },
          "metadata": {
            "tags": [],
            "needs_background": "light"
          }
        }
      ]
    },
    {
      "cell_type": "code",
      "metadata": {
        "id": "wT5nKHf1O3IK",
        "colab": {
          "base_uri": "https://localhost:8080/",
          "height": 282
        },
        "outputId": "cc132950-0ef4-44cf-bd06-b1f44ae51527"
      },
      "source": [
        "loss = history.history['loss']\n",
        "val_loss = history.history['val_loss']\n",
        "plt.plot(epochs,loss)\n",
        "plt.plot(epochs,val_loss)"
      ],
      "execution_count": null,
      "outputs": [
        {
          "output_type": "execute_result",
          "data": {
            "text/plain": [
              "[<matplotlib.lines.Line2D at 0x7f1b66f04b38>]"
            ]
          },
          "metadata": {
            "tags": []
          },
          "execution_count": 79
        },
        {
          "output_type": "display_data",
          "data": {
            "image/png": "[encoded data removed]",
            "text/plain": [
              "<Figure size 432x288 with 1 Axes>"
            ]
          },
          "metadata": {
            "tags": [],
            "needs_background": "light"
          }
        }
      ]
    },
    {
      "cell_type": "code",
      "metadata": {
        "id": "QeAtaLb7PqAz"
      },
      "source": [],
      "execution_count": null,
      "outputs": []
    }
  ]
}